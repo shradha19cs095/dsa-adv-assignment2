{
 "cells": [
  {
   "cell_type": "code",
   "execution_count": 1,
   "id": "3d882075",
   "metadata": {},
   "outputs": [
    {
     "name": "stdout",
     "output_type": "stream",
     "text": [
      "Element 9 found at index 4.\n"
     ]
    }
   ],
   "source": [
    "# 1.Implement Binary Search\n",
    "def binary_search(arr, target):\n",
    "    left, right = 0, len(arr) - 1\n",
    "    while left <= right:\n",
    "        mid = (left + right) // 2  \n",
    "        if arr[mid] == target:\n",
    "            return mid  \n",
    "        elif arr[mid] < target:\n",
    "            left = mid + 1  \n",
    "        else:\n",
    "            right = mid - 1\n",
    "\n",
    "    return -1  \n",
    "\n",
    "sorted_array = [1, 3, 5, 7, 9, 11, 13]\n",
    "target_element = 9\n",
    "result = binary_search(sorted_array, target_element)\n",
    "\n",
    "if result != -1:\n",
    "   print(f\"Element {target_element} found at index {result}.\")\n",
    "else:\n",
    "   print(f\"Element {target_element} not found in the array.\")"
   ]
  },
  {
   "cell_type": "code",
   "execution_count": 2,
   "id": "0d8260a6",
   "metadata": {},
   "outputs": [
    {
     "name": "stdout",
     "output_type": "stream",
     "text": [
      "Sorted List: [11, 13, 61, 77, 111, 1111]\n"
     ]
    }
   ],
   "source": [
    "# 2.Implement Merge Sort\n",
    "\n",
    "def merge_sort(arr):\n",
    "    if len(arr) <= 1:\n",
    "        return arr \n",
    "    mid = len(arr) // 2\n",
    "    left_half = arr[:mid]\n",
    "    right_half = arr[mid:]\n",
    "\n",
    "    left_half = merge_sort(left_half)\n",
    "    right_half = merge_sort(right_half)\n",
    "\n",
    "    return merge(left_half, right_half)\n",
    "def merge(left, right):\n",
    "    merged = []\n",
    "    left_index, right_index = 0, 0\n",
    "    while left_index < len(left) and right_index < len(right):\n",
    "        if left[left_index] < right[right_index]:\n",
    "            merged.append(left[left_index])\n",
    "            left_index += 1\n",
    "        else:\n",
    "            merged.append(right[right_index])\n",
    "            right_index += 1\n",
    "    merged.extend(left[left_index:])\n",
    "    merged.extend(right[right_index:])\n",
    "    return merged\n",
    "unsorted_list = [111, 11, 13, 1111, 61, 77]\n",
    "sorted_list = merge_sort(unsorted_list)\n",
    "print(\"Sorted List:\", sorted_list)"
   ]
  },
  {
   "cell_type": "code",
   "execution_count": 3,
   "id": "79dd00a6",
   "metadata": {},
   "outputs": [
    {
     "name": "stdout",
     "output_type": "stream",
     "text": [
      "Sorted List: [5, 6, 7, 11, 12, 13]\n"
     ]
    }
   ],
   "source": [
    "# 3.Implement Quick Sort\n",
    "\n",
    "def quick_sort(arr):\n",
    "    if len(arr) <= 1:\n",
    "        return arr\n",
    "    pivot = arr[len(arr) // 2]  \n",
    "    left = [x for x in arr if x < pivot] \n",
    "    middle = [x for x in arr if x == pivot]  \n",
    "    right = [x for x in arr if x > pivot]  \n",
    "    return quick_sort(left) + middle + quick_sort(right)\n",
    "unsorted_list = [12, 11, 13, 5, 6, 7]\n",
    "sorted_list = quick_sort(unsorted_list)\n",
    "print(\"Sorted List:\", sorted_list)"
   ]
  },
  {
   "cell_type": "code",
   "execution_count": 4,
   "id": "9e418698",
   "metadata": {},
   "outputs": [
    {
     "name": "stdout",
     "output_type": "stream",
     "text": [
      "Sorted List: [69, 97, 97, 103, 111, 121]\n"
     ]
    }
   ],
   "source": [
    "# 4.Implement Insertion Sort\n",
    "def insertion_sort(arr):\n",
    "    for i in range(1, len(arr)):\n",
    "        key = arr[i]\n",
    "        j = i - 1\n",
    "        while j >= 0 and key < arr[j]:\n",
    "            arr[j + 1] = arr[j]\n",
    "            j -= 1\n",
    "        arr[j + 1] = key\n",
    "\n",
    "unsorted_list = [121, 111, 103, 97, 69, 97]\n",
    "insertion_sort(unsorted_list)\n",
    "print(\"Sorted List:\", unsorted_list)"
   ]
  },
  {
   "cell_type": "code",
   "execution_count": 5,
   "id": "16d12496",
   "metadata": {},
   "outputs": [
    {
     "name": "stdout",
     "output_type": "stream",
     "text": [
      "Sorted List: ['apple', 'banana', 'cat', 'dog', 'zebra']\n"
     ]
    }
   ],
   "source": [
    "# 5.Write a program to sort list of strings (similar to that of dictionary)\n",
    "\n",
    "string_list = [\"apple\", \"zebra\", \"banana\", \"cat\", \"dog\"]\n",
    "sorted_list = sorted(string_list)\n",
    "print(\"Sorted List:\", sorted_list)"
   ]
  },
  {
   "cell_type": "code",
   "execution_count": null,
   "id": "aef32dc2",
   "metadata": {},
   "outputs": [],
   "source": []
  }
 ],
 "metadata": {
  "kernelspec": {
   "display_name": "Python 3 (ipykernel)",
   "language": "python",
   "name": "python3"
  },
  "language_info": {
   "codemirror_mode": {
    "name": "ipython",
    "version": 3
   },
   "file_extension": ".py",
   "mimetype": "text/x-python",
   "name": "python",
   "nbconvert_exporter": "python",
   "pygments_lexer": "ipython3",
   "version": "3.10.9"
  }
 },
 "nbformat": 4,
 "nbformat_minor": 5
}
